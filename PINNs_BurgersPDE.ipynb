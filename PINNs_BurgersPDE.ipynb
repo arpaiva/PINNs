{
  "nbformat": 4,
  "nbformat_minor": 0,
  "metadata": {
    "colab": {
      "name": "PINNs_BurgersPDE.ipynb",
      "provenance": [],
      "collapsed_sections": [],
      "authorship_tag": "ABX9TyOxS+aJ7Jz5pRZbkJROvChm",
      "include_colab_link": true
    },
    "kernelspec": {
      "name": "python3",
      "display_name": "Python 3"
    },
    "language_info": {
      "name": "python"
    }
  },
  "cells": [
    {
      "cell_type": "markdown",
      "metadata": {
        "id": "view-in-github",
        "colab_type": "text"
      },
      "source": [
        "<a href=\"https://colab.research.google.com/github/arpaiva/PINNs/blob/main/PINNs_BurgersPDE.ipynb\" target=\"_parent\"><img src=\"https://colab.research.google.com/assets/colab-badge.svg\" alt=\"Open In Colab\"/></a>"
      ]
    },
    {
      "cell_type": "markdown",
      "metadata": {
        "id": "gVCBcTq_amTZ"
      },
      "source": [
        "# Solve Burgers' PDE example using Physics-Informed Neural Nets (PINNs)"
      ]
    },
    {
      "cell_type": "code",
      "metadata": {
        "id": "NClHRw98ggSY"
      },
      "source": [
        "import numpy as np\n",
        "import matplotlib.pyplot as plt\n",
        "import torch\n",
        "from torch import nn, optim, autograd"
      ],
      "execution_count": null,
      "outputs": []
    },
    {
      "cell_type": "code",
      "metadata": {
        "id": "WBtRF6sPgtLA"
      },
      "source": [
        "class BurgersPINN(nn.Module):\n",
        "    \"\"\"Physics-informed neural nets (PINNS) to solve Burgers' equation.\"\"\"\n",
        "\n",
        "    def __init__(self,\n",
        "                 nn_arch=[16, 8],\n",
        "                 activation_fcn=torch.nn.Tanh,\n",
        "                 misfit_fcn=torch.nn.MSELoss(),\n",
        "                 domain=(-1, 1, 0, 1),\n",
        "                 n_initcond_pts=128,\n",
        "                 n_boundary_pts=128,\n",
        "                 n_collocation_pts=512,\n",
        "                 device=None):\n",
        "        \"\"\"Args:\n",
        "            nn_arch - number of nodes for each hidden layer of the dense NN\n",
        "            activation_fcn - nn.Module nonlinearity class applied to the output\n",
        "                      of hidden layer nodes (not applied to output layer)\n",
        "            misfit_fcn  - training loss/objective function\n",
        "            domain  - tuple of dimensions of the simulation domain with\n",
        "                      format (x_lb, x_ub, t_start, t_end)\n",
        "            n_initcond_pts - number of constraint boundary points\n",
        "            n_boundary_pts - number of boundary points\n",
        "            n_collocation_pts - number of points where to test and ensure\n",
        "                      that the trained PINN solves the PDE \n",
        "            device  - compute device; defaults to \"cuda:0\" when available or\n",
        "                      \"cpu\" otherwise\n",
        "        \"\"\"\n",
        "\n",
        "        super().__init__()\n",
        "        self._domain = domain\n",
        "        self._nn_arch = nn_arch\n",
        "        self._activation_fcn = activation_fcn\n",
        "        self._misfit_fcn = misfit_fcn\n",
        "        self._n_initcond_pts = n_initcond_pts\n",
        "        self._n_boundary_pts = n_boundary_pts\n",
        "        self._n_collocation_pts = n_collocation_pts\n",
        "\n",
        "        if device:\n",
        "            self._device = device\n",
        "        else:\n",
        "            self._device = \"cuda:0\" if torch.cuda.is_available() else \"cpu\"\n",
        "\n",
        "        # initialize neural net representation of domain\n",
        "        self._layers = []\n",
        "        n_inputs = 2\n",
        "        # .. add hidden layers\n",
        "        for i, n_nodes in enumerate(nn_arch):\n",
        "            self._layers.append(nn.Linear(n_inputs, n_nodes))\n",
        "            self._layers.append(activation_fcn())\n",
        "            n_inputs = n_nodes\n",
        "        # .. add output layer\n",
        "        self._layers.append(nn.Linear(n_inputs, 1))\n",
        "        # .. combine layers\n",
        "        self._model = nn.Sequential(*self._layers)\n",
        "\n",
        "        self.to(self._device)\n",
        "\n",
        "    def forward(self, x, t):\n",
        "        return self._model(torch.cat([x, t], axis=1))\n",
        "\n",
        "    def pde(self, x, t):\n",
        "        \"\"\"Burgers' PDE:\n",
        "            f(x,t|u) = du/dt + u*(dx/dt) - (0.01/pi)(d^2x/dx^2) = 0.\n",
        "        \"\"\"\n",
        "        \n",
        "        u = self(x, t)\n",
        "        u_t = autograd.grad(u.sum(), t, create_graph=True)[0]\n",
        "        u_x = autograd.grad(u.sum(), x, create_graph=True)[0]\n",
        "        u_xx = autograd.grad(u_x.sum(), x, create_graph=True)[0]\n",
        "        #pdb.set_trace()\n",
        "        return u_t + u*u_x - (0.01/np.pi)*u_xx\n",
        "\n",
        "    def boundary_points(self):\n",
        "        \"\"\"Returns a batch of boundary points for training the PINN.\n",
        "        Points are returned as a tuple (x, t, u).\n",
        "        \"\"\"\n",
        "\n",
        "        # boundary condition points, i.e., u(x,t), x={-1, 1}\n",
        "        x = np.where(np.random.rand(self._n_boundary_pts, 1) < 0.5,\n",
        "                       self._domain[0], self._domain[1])\n",
        "        t = np.random.uniform(low=self._domain[2], high=self._domain[3],\n",
        "                              size=(self._n_boundary_pts, 1))\n",
        "        u = np.zeros_like(x)\n",
        "\n",
        "        return (self.numpy_to_tensor(x),\n",
        "                self.numpy_to_tensor(t),\n",
        "                self.numpy_to_tensor(u))\n",
        "\n",
        "    def initial_condition_points(self, ic_func=None):\n",
        "        \"\"\"Returns a batch of boundary points for training the PINN.\n",
        "        Points are returned as a tuple (x, t, u).\n",
        "        \"\"\"\n",
        "\n",
        "        if not ic_func:\n",
        "            ic_func = lambda x: -np.sin(np.pi * x)\n",
        "\n",
        "        # initial condition points, i.e., u(x,t=0)\n",
        "        x = np.random.uniform(low=self._domain[0], high=self._domain[1],\n",
        "                              size=(self._n_initcond_pts, 1))\n",
        "        t = np.full_like(x, self._domain[2])\n",
        "        u = ic_func(x)\n",
        "\n",
        "        return (self.numpy_to_tensor(x),\n",
        "                self.numpy_to_tensor(t),\n",
        "                self.numpy_to_tensor(u))\n",
        "\n",
        "    def collocation_points(self):\n",
        "        \"\"\"Returns a batch of random collocation points.\"\"\"\n",
        "        \n",
        "        # randomly sample locations in the (space x time) domain \n",
        "        x =  np.random.uniform(low=self._domain[0], high=self._domain[1],\n",
        "                               size=(self._n_collocation_pts, 1))\n",
        "        t = np.random.rand(self._n_collocation_pts, 1)\n",
        "\n",
        "        x = self.numpy_to_tensor(x, grad=True)\n",
        "        t = self.numpy_to_tensor(t, grad=True)\n",
        "\n",
        "        return x, t\n",
        "\n",
        "    def get_loss(self, mse_ic, mse_bc, mse_pde):\n",
        "        \"\"\"Returns combined loss and dict of individual component loss values.\"\"\"\n",
        "        losses = {'mse_ic': mse_ic.item(),\n",
        "                  'mse_bc': mse_bc.item(),\n",
        "                  'mse_pde': mse_pde.item()}\n",
        "        return mse_ic + mse_bc + mse_pde, losses\n",
        "\n",
        "    def train(self, learning_rate=1e-3, n_iter=1000, disp_iter=10,\n",
        "              resample_initcond_pts=False,\n",
        "              resample_boundary_pts=False,\n",
        "              resample_collocation_points=True):\n",
        "        \n",
        "        optimizer = optim.Adam(self.parameters(), lr=learning_rate, amsgrad=True)\n",
        "\n",
        "        f_vals = self.numpy_to_tensor(np.zeros((self._n_collocation_pts, 1)))\n",
        "\n",
        "        for it in range(n_iter):       \n",
        "            if it==0 or resample_initcond_pts:\n",
        "                xic, tic, uic = self.initial_condition_points()\n",
        "            if it==0 or resample_boundary_pts:\n",
        "                xbc, tbc, ubc = self.boundary_points()\n",
        "            if it==0 or resample_collocation_points:\n",
        "                x_col, t_col = self.collocation_points()\n",
        "\n",
        "            # loss on initial condition points\n",
        "            pred_uic = self(xic, tic)\n",
        "            mse_ic = self._misfit_fcn(uic, pred_uic)\n",
        "\n",
        "            # loss on boundary points\n",
        "            pred_ubc = self(xbc, tbc)\n",
        "            mse_bc = self._misfit_fcn(ubc, pred_ubc)\n",
        "\n",
        "            # loss on collocation points\n",
        "            pred_f = self.pde(x_col, t_col)\n",
        "            mse_pde = self._misfit_fcn(f_vals, pred_f)\n",
        "\n",
        "            # combined loss\n",
        "            loss, losses = self.get_loss(mse_ic, mse_bc, mse_pde)\n",
        "\n",
        "            # backprop + gradient step\n",
        "            optimizer.zero_grad()\n",
        "            loss.backward()\n",
        "            optimizer.step()\n",
        "\n",
        "            if it % disp_iter == 0:\n",
        "                print(f'[{it:5d}]',\n",
        "                      ' '.join([f'{ln}={lv:.5f},' for ln, lv in losses.items()]),\n",
        "                      f'loss={loss:.5f}')\n",
        "\n",
        "    def numpy_to_tensor(self, x, grad=False):\n",
        "        return torch.from_numpy(x).float().requires_grad_(grad).to(self._device)"
      ],
      "execution_count": null,
      "outputs": []
    },
    {
      "cell_type": "code",
      "metadata": {
        "colab": {
          "base_uri": "https://localhost:8080/"
        },
        "id": "BV52e2x2jQvn",
        "outputId": "0f60135b-61ad-4a40-8567-a0f0f796fe1a"
      },
      "source": [
        "pinn = BurgersPINN(nn_arch=[32, 16, 16, 8], n_collocation_pts=1024)\n",
        "print(pinn)\n",
        "\n",
        "pinn.train(learning_rate=0.005, n_iter=10000, disp_iter=100)"
      ],
      "execution_count": null,
      "outputs": [
        {
          "output_type": "stream",
          "name": "stdout",
          "text": [
            "BurgersPINN(\n",
            "  (_misfit_fcn): MSELoss()\n",
            "  (_model): Sequential(\n",
            "    (0): Linear(in_features=2, out_features=32, bias=True)\n",
            "    (1): Tanh()\n",
            "    (2): Linear(in_features=32, out_features=16, bias=True)\n",
            "    (3): Tanh()\n",
            "    (4): Linear(in_features=16, out_features=16, bias=True)\n",
            "    (5): Tanh()\n",
            "    (6): Linear(in_features=16, out_features=8, bias=True)\n",
            "    (7): Tanh()\n",
            "    (8): Linear(in_features=8, out_features=1, bias=True)\n",
            "  )\n",
            ")\n",
            "[    0] mse_ic=0.53167, mse_bc=0.08523, mse_pde=0.00001, loss=0.61690\n",
            "[  100] mse_ic=0.07461, mse_bc=0.00431, mse_pde=0.03661, loss=0.11553\n",
            "[  200] mse_ic=0.05956, mse_bc=0.00266, mse_pde=0.03511, loss=0.09733\n",
            "[  300] mse_ic=0.04443, mse_bc=0.00309, mse_pde=0.03994, loss=0.08746\n",
            "[  400] mse_ic=0.04376, mse_bc=0.00146, mse_pde=0.02671, loss=0.07194\n",
            "[  500] mse_ic=0.03515, mse_bc=0.00227, mse_pde=0.02709, loss=0.06451\n",
            "[  600] mse_ic=0.02625, mse_bc=0.00073, mse_pde=0.02795, loss=0.05493\n",
            "[  700] mse_ic=0.02655, mse_bc=0.00044, mse_pde=0.01704, loss=0.04404\n",
            "[  800] mse_ic=0.01991, mse_bc=0.00029, mse_pde=0.01916, loss=0.03936\n",
            "[  900] mse_ic=0.01625, mse_bc=0.00013, mse_pde=0.01731, loss=0.03370\n",
            "[ 1000] mse_ic=0.01628, mse_bc=0.00093, mse_pde=0.02339, loss=0.04060\n",
            "[ 1100] mse_ic=0.01010, mse_bc=0.00007, mse_pde=0.00983, loss=0.02001\n",
            "[ 1200] mse_ic=0.04470, mse_bc=0.00513, mse_pde=0.02639, loss=0.07622\n",
            "[ 1300] mse_ic=0.01278, mse_bc=0.00024, mse_pde=0.01003, loss=0.02306\n",
            "[ 1400] mse_ic=0.00801, mse_bc=0.00015, mse_pde=0.00652, loss=0.01468\n",
            "[ 1500] mse_ic=0.00595, mse_bc=0.00023, mse_pde=0.00877, loss=0.01495\n",
            "[ 1600] mse_ic=0.00449, mse_bc=0.00012, mse_pde=0.00519, loss=0.00980\n",
            "[ 1700] mse_ic=0.00829, mse_bc=0.00046, mse_pde=0.06866, loss=0.07741\n",
            "[ 1800] mse_ic=0.00575, mse_bc=0.00002, mse_pde=0.00498, loss=0.01075\n",
            "[ 1900] mse_ic=0.00436, mse_bc=0.00031, mse_pde=0.00723, loss=0.01190\n",
            "[ 2000] mse_ic=0.00435, mse_bc=0.00033, mse_pde=0.00421, loss=0.00890\n",
            "[ 2100] mse_ic=0.00360, mse_bc=0.00030, mse_pde=0.00767, loss=0.01157\n",
            "[ 2200] mse_ic=0.00630, mse_bc=0.00020, mse_pde=0.00929, loss=0.01579\n",
            "[ 2300] mse_ic=0.00410, mse_bc=0.00024, mse_pde=0.00498, loss=0.00932\n",
            "[ 2400] mse_ic=0.00425, mse_bc=0.00015, mse_pde=0.00649, loss=0.01089\n",
            "[ 2500] mse_ic=0.00285, mse_bc=0.00010, mse_pde=0.00383, loss=0.00678\n",
            "[ 2600] mse_ic=0.00254, mse_bc=0.00011, mse_pde=0.00346, loss=0.00611\n",
            "[ 2700] mse_ic=0.00253, mse_bc=0.00006, mse_pde=0.00441, loss=0.00699\n",
            "[ 2800] mse_ic=0.00329, mse_bc=0.00025, mse_pde=0.00393, loss=0.00746\n",
            "[ 2900] mse_ic=0.00296, mse_bc=0.00067, mse_pde=0.00755, loss=0.01119\n",
            "[ 3000] mse_ic=0.00235, mse_bc=0.00006, mse_pde=0.00396, loss=0.00637\n",
            "[ 3100] mse_ic=0.00215, mse_bc=0.00013, mse_pde=0.00310, loss=0.00537\n",
            "[ 3200] mse_ic=0.00525, mse_bc=0.00010, mse_pde=0.00713, loss=0.01249\n",
            "[ 3300] mse_ic=0.00279, mse_bc=0.00039, mse_pde=0.00424, loss=0.00742\n",
            "[ 3400] mse_ic=0.00221, mse_bc=0.00019, mse_pde=0.00278, loss=0.00517\n",
            "[ 3500] mse_ic=0.00213, mse_bc=0.00001, mse_pde=0.00185, loss=0.00399\n",
            "[ 3600] mse_ic=0.00220, mse_bc=0.00007, mse_pde=0.00289, loss=0.00515\n",
            "[ 3700] mse_ic=0.00167, mse_bc=0.00007, mse_pde=0.00172, loss=0.00347\n",
            "[ 3800] mse_ic=0.01133, mse_bc=0.00079, mse_pde=0.02630, loss=0.03843\n",
            "[ 3900] mse_ic=0.00311, mse_bc=0.00007, mse_pde=0.00243, loss=0.00560\n",
            "[ 4000] mse_ic=0.00222, mse_bc=0.00006, mse_pde=0.01080, loss=0.01308\n",
            "[ 4100] mse_ic=0.00161, mse_bc=0.00013, mse_pde=0.00344, loss=0.00518\n",
            "[ 4200] mse_ic=0.00602, mse_bc=0.00018, mse_pde=0.00373, loss=0.00993\n",
            "[ 4300] mse_ic=0.00254, mse_bc=0.00002, mse_pde=0.00205, loss=0.00461\n",
            "[ 4400] mse_ic=0.00181, mse_bc=0.00002, mse_pde=0.00372, loss=0.00555\n",
            "[ 4500] mse_ic=0.00214, mse_bc=0.00033, mse_pde=0.01653, loss=0.01900\n",
            "[ 4600] mse_ic=0.00165, mse_bc=0.00026, mse_pde=0.00441, loss=0.00633\n",
            "[ 4700] mse_ic=0.00170, mse_bc=0.00005, mse_pde=0.00364, loss=0.00538\n",
            "[ 4800] mse_ic=0.01443, mse_bc=0.00015, mse_pde=0.04145, loss=0.05604\n",
            "[ 4900] mse_ic=0.00388, mse_bc=0.00005, mse_pde=0.00321, loss=0.00715\n",
            "[ 5000] mse_ic=0.00183, mse_bc=0.00004, mse_pde=0.00265, loss=0.00452\n",
            "[ 5100] mse_ic=0.00418, mse_bc=0.00021, mse_pde=0.02101, loss=0.02540\n",
            "[ 5200] mse_ic=0.00163, mse_bc=0.00001, mse_pde=0.00202, loss=0.00366\n",
            "[ 5300] mse_ic=0.00130, mse_bc=0.00009, mse_pde=0.00383, loss=0.00522\n",
            "[ 5400] mse_ic=0.00173, mse_bc=0.00073, mse_pde=0.00833, loss=0.01078\n",
            "[ 5500] mse_ic=0.00142, mse_bc=0.00002, mse_pde=0.00335, loss=0.00479\n",
            "[ 5600] mse_ic=0.00109, mse_bc=0.00007, mse_pde=0.00152, loss=0.00268\n",
            "[ 5700] mse_ic=0.00110, mse_bc=0.00008, mse_pde=0.00177, loss=0.00296\n",
            "[ 5800] mse_ic=0.00106, mse_bc=0.00002, mse_pde=0.00172, loss=0.00281\n",
            "[ 5900] mse_ic=0.00429, mse_bc=0.00418, mse_pde=0.01010, loss=0.01857\n",
            "[ 6000] mse_ic=0.00185, mse_bc=0.00003, mse_pde=0.00230, loss=0.00418\n",
            "[ 6100] mse_ic=0.00140, mse_bc=0.00007, mse_pde=0.00186, loss=0.00332\n",
            "[ 6200] mse_ic=0.00124, mse_bc=0.00004, mse_pde=0.00640, loss=0.00768\n",
            "[ 6300] mse_ic=0.00110, mse_bc=0.00001, mse_pde=0.00167, loss=0.00278\n",
            "[ 6400] mse_ic=0.00113, mse_bc=0.00006, mse_pde=0.00185, loss=0.00304\n",
            "[ 6500] mse_ic=0.00133, mse_bc=0.00014, mse_pde=0.00173, loss=0.00320\n",
            "[ 6600] mse_ic=0.00191, mse_bc=0.00006, mse_pde=0.00432, loss=0.00629\n",
            "[ 6700] mse_ic=0.00106, mse_bc=0.00009, mse_pde=0.00154, loss=0.00270\n",
            "[ 6800] mse_ic=0.00093, mse_bc=0.00002, mse_pde=0.00162, loss=0.00257\n",
            "[ 6900] mse_ic=0.00105, mse_bc=0.00001, mse_pde=0.00188, loss=0.00294\n",
            "[ 7000] mse_ic=0.00090, mse_bc=0.00014, mse_pde=0.00287, loss=0.00391\n",
            "[ 7100] mse_ic=0.00080, mse_bc=0.00003, mse_pde=0.00160, loss=0.00243\n",
            "[ 7200] mse_ic=0.00074, mse_bc=0.00004, mse_pde=0.00189, loss=0.00268\n",
            "[ 7300] mse_ic=0.00080, mse_bc=0.00004, mse_pde=0.00155, loss=0.00239\n",
            "[ 7400] mse_ic=0.00103, mse_bc=0.00049, mse_pde=0.01057, loss=0.01209\n",
            "[ 7500] mse_ic=0.00112, mse_bc=0.00006, mse_pde=0.00265, loss=0.00383\n",
            "[ 7600] mse_ic=0.00101, mse_bc=0.00022, mse_pde=0.00406, loss=0.00529\n",
            "[ 7700] mse_ic=0.00081, mse_bc=0.00004, mse_pde=0.00180, loss=0.00265\n",
            "[ 7800] mse_ic=0.00073, mse_bc=0.00019, mse_pde=0.00272, loss=0.00364\n",
            "[ 7900] mse_ic=0.00079, mse_bc=0.00005, mse_pde=0.00283, loss=0.00367\n",
            "[ 8000] mse_ic=0.00144, mse_bc=0.00008, mse_pde=0.00367, loss=0.00519\n",
            "[ 8100] mse_ic=0.00081, mse_bc=0.00003, mse_pde=0.00138, loss=0.00222\n",
            "[ 8200] mse_ic=0.00077, mse_bc=0.00004, mse_pde=0.00218, loss=0.00299\n",
            "[ 8300] mse_ic=0.00093, mse_bc=0.00023, mse_pde=0.00135, loss=0.00251\n",
            "[ 8400] mse_ic=0.00065, mse_bc=0.00020, mse_pde=0.00180, loss=0.00265\n",
            "[ 8500] mse_ic=0.00067, mse_bc=0.00006, mse_pde=0.00115, loss=0.00188\n",
            "[ 8600] mse_ic=0.00056, mse_bc=0.00024, mse_pde=0.00145, loss=0.00226\n",
            "[ 8700] mse_ic=0.00053, mse_bc=0.00005, mse_pde=0.00167, loss=0.00226\n",
            "[ 8800] mse_ic=0.00073, mse_bc=0.00002, mse_pde=0.00162, loss=0.00237\n",
            "[ 8900] mse_ic=0.00057, mse_bc=0.00002, mse_pde=0.00118, loss=0.00178\n",
            "[ 9000] mse_ic=0.00063, mse_bc=0.00003, mse_pde=0.00186, loss=0.00252\n",
            "[ 9100] mse_ic=0.00127, mse_bc=0.00078, mse_pde=0.00607, loss=0.00812\n",
            "[ 9200] mse_ic=0.00104, mse_bc=0.00009, mse_pde=0.00319, loss=0.00431\n",
            "[ 9300] mse_ic=0.00061, mse_bc=0.00006, mse_pde=0.00152, loss=0.00219\n",
            "[ 9400] mse_ic=0.00126, mse_bc=0.00012, mse_pde=0.00712, loss=0.00850\n",
            "[ 9500] mse_ic=0.00103, mse_bc=0.00006, mse_pde=0.00386, loss=0.00495\n",
            "[ 9600] mse_ic=0.00080, mse_bc=0.00002, mse_pde=0.00140, loss=0.00222\n",
            "[ 9700] mse_ic=0.00115, mse_bc=0.00002, mse_pde=0.00181, loss=0.00298\n",
            "[ 9800] mse_ic=0.00065, mse_bc=0.00009, mse_pde=0.00133, loss=0.00207\n",
            "[ 9900] mse_ic=0.00075, mse_bc=0.00004, mse_pde=0.00130, loss=0.00209\n"
          ]
        }
      ]
    },
    {
      "cell_type": "code",
      "metadata": {
        "colab": {
          "base_uri": "https://localhost:8080/",
          "height": 282
        },
        "id": "LCZMotBd3qup",
        "outputId": "eb2cfa7d-848f-4d6e-bd37-644591c9fb1f"
      },
      "source": [
        "xg, tg = np.meshgrid(np.linspace(-1, 1, 201), np.linspace(0, 1, 101))\n",
        "# xg, tg = np.linspace(-1, 1, 201), np.zeros(201)\n",
        "with torch.no_grad():\n",
        "    u = pinn(pinn.numpy_to_tensor(xg.reshape((-1, 1))),\n",
        "             pinn.numpy_to_tensor(tg.reshape((-1, 1))))\n",
        "\n",
        "plt.plot(xg[0], -np.sin(np.pi*xg[0]), label='input training IC')\n",
        "plt.plot(xg[0], u.numpy().reshape(xg.shape)[0], '--', label='PINN IC representation')\n",
        "plt.legend()"
      ],
      "execution_count": null,
      "outputs": [
        {
          "output_type": "execute_result",
          "data": {
            "text/plain": [
              "<matplotlib.legend.Legend at 0x7f57de0593d0>"
            ]
          },
          "metadata": {},
          "execution_count": 4
        },
        {
          "output_type": "display_data",
          "data": {
            "image/png": "[encoded data removed]",
            "text/plain": [
              "<Figure size 432x288 with 1 Axes>"
            ]
          },
          "metadata": {
            "needs_background": "light"
          }
        }
      ]
    },
    {
      "cell_type": "code",
      "metadata": {
        "colab": {
          "base_uri": "https://localhost:8080/",
          "height": 364
        },
        "id": "oGfBrNXD2zYE",
        "outputId": "f9e7a513-641e-455c-fb4a-0af1097de85d"
      },
      "source": [
        "plt.figure(figsize=(9, 3), dpi=120)\n",
        "plt.imshow(u.numpy().reshape(xg.shape).T,\n",
        "           cmap='rainbow',\n",
        "           interpolation='nearest',\n",
        "           extent=[0, 1, -1, 1],\n",
        "           origin='lower',\n",
        "           aspect='auto')\n",
        "plt.colorbar()\n",
        "plt.tight_layout();"
      ],
      "execution_count": null,
      "outputs": [
        {
          "output_type": "display_data",
          "data": {
            "image/png": "[encoded data removed]",
            "text/plain": [
              "<Figure size 1080x360 with 2 Axes>"
            ]
          },
          "metadata": {
            "needs_background": "light"
          }
        }
      ]
    },
    {
      "cell_type": "markdown",
      "metadata": {
        "id": "rA89z_EkajpH"
      },
      "source": [
        "# Compare pyTorch autograd approaches\n",
        "There are two ways to obtain the (partial) derivatives/gradients of a pyTorch function (e.g., neural net):\n",
        " * _Using `autograd.grad`_, which expects a scalar function. A sum is used because the derivative with respect to each input value depends only on the corresponding output value.\n",
        " * _Using the tensor `backward` method_. This needs a starting tensor of ones with the same dimensions as the output, and then gradients can be accessed on the `.grad` attribute.\n",
        "    * _Major limitation:_ How to get second derivatives?\n",
        "    * Also seems more cumbersome because we need to ensure `requires_grad=True` for the input tensors wrt to which one will need the derivatives. "
      ]
    },
    {
      "cell_type": "code",
      "metadata": {
        "colab": {
          "base_uri": "https://localhost:8080/"
        },
        "id": "L143SAiKVVIJ",
        "outputId": "f266e6c2-e80f-4ea6-a8ed-90f5747da2cd"
      },
      "source": [
        "class TestNet(nn.Module):\n",
        "    def __init__(self):\n",
        "        super().__init__()\n",
        "        self._layers = [nn.Linear(2, 5),\n",
        "                        nn.Linear(5, 1)]\n",
        "\n",
        "    def forward(self, x, t):\n",
        "        xx = torch.cat([x, t], axis=1)\n",
        "        h = torch.sigmoid(self._layers[0](xx))\n",
        "        y = self._layers[1](h)\n",
        "        return y\n",
        "\n",
        "\n",
        "x, t = np.meshgrid(np.linspace(-1, 1, 5), np.linspace(0, 1, 7))\n",
        "xx = torch.as_tensor(x.reshape((-1,1))).float().requires_grad_(True)\n",
        "tt = torch.as_tensor(t.reshape((-1,1))).float().requires_grad_(True)\n",
        "\n",
        "net = TestNet()\n",
        "u = net(xx, tt)\n",
        "print(u.shape)"
      ],
      "execution_count": null,
      "outputs": [
        {
          "output_type": "stream",
          "name": "stdout",
          "text": [
            "torch.Size([35, 1])\n"
          ]
        }
      ]
    },
    {
      "cell_type": "code",
      "metadata": {
        "colab": {
          "base_uri": "https://localhost:8080/"
        },
        "id": "NmPUMqpce5ks",
        "outputId": "5da24a14-50d4-4cf3-a4f0-ae8f4903a4b8"
      },
      "source": [
        "# using autograd.grad explicitly (on the sum)\n",
        "ux = autograd.grad(u.sum(), xx, create_graph=True)[0]\n",
        "ut = autograd.grad(u.sum(), tt, create_graph=True)[0]\n",
        "print('ux =', ux.T)\n",
        "print('ut =', ut.T)"
      ],
      "execution_count": null,
      "outputs": [
        {
          "output_type": "stream",
          "name": "stdout",
          "text": [
            "ux = tensor([[0.0454, 0.0444, 0.0425, 0.0398, 0.0367, 0.0455, 0.0448, 0.0431, 0.0407,\n",
            "         0.0377, 0.0455, 0.0451, 0.0437, 0.0415, 0.0388, 0.0453, 0.0452, 0.0441,\n",
            "         0.0422, 0.0397, 0.0450, 0.0452, 0.0444, 0.0428, 0.0405, 0.0445, 0.0450,\n",
            "         0.0445, 0.0432, 0.0412, 0.0440, 0.0447, 0.0445, 0.0435, 0.0417]],\n",
            "       grad_fn=<PermuteBackward>)\n",
            "ut = tensor([[-0.0485, -0.0474, -0.0455, -0.0429, -0.0398, -0.0488, -0.0482, -0.0467,\n",
            "         -0.0445, -0.0416, -0.0490, -0.0488, -0.0477, -0.0458, -0.0433, -0.0489,\n",
            "         -0.0491, -0.0485, -0.0470, -0.0448, -0.0485, -0.0493, -0.0491, -0.0480,\n",
            "         -0.0462, -0.0480, -0.0492, -0.0494, -0.0488, -0.0474, -0.0472, -0.0488,\n",
            "         -0.0496, -0.0494, -0.0484]], grad_fn=<PermuteBackward>)\n"
          ]
        }
      ]
    },
    {
      "cell_type": "code",
      "metadata": {
        "colab": {
          "base_uri": "https://localhost:8080/"
        },
        "id": "Oz0CE3mmb56Y",
        "outputId": "99625871-434a-44bf-89c5-8d07a268205e"
      },
      "source": [
        "# using tensor's backward method\n",
        "xx.grad = None\n",
        "tt.grad = None\n",
        "u.backward(gradient=torch.ones_like(u), create_graph=True)\n",
        "print('ux =', xx.grad.T)\n",
        "print('ut =', tt.grad.T)"
      ],
      "execution_count": null,
      "outputs": [
        {
          "output_type": "stream",
          "name": "stdout",
          "text": [
            "ux = tensor([[0.0454, 0.0444, 0.0425, 0.0398, 0.0367, 0.0455, 0.0448, 0.0431, 0.0407,\n",
            "         0.0377, 0.0455, 0.0451, 0.0437, 0.0415, 0.0388, 0.0453, 0.0452, 0.0441,\n",
            "         0.0422, 0.0397, 0.0450, 0.0452, 0.0444, 0.0428, 0.0405, 0.0445, 0.0450,\n",
            "         0.0445, 0.0432, 0.0412, 0.0440, 0.0447, 0.0445, 0.0435, 0.0417]],\n",
            "       grad_fn=<PermuteBackward>)\n",
            "ut = tensor([[-0.0485, -0.0474, -0.0455, -0.0429, -0.0398, -0.0488, -0.0482, -0.0467,\n",
            "         -0.0445, -0.0416, -0.0490, -0.0488, -0.0477, -0.0458, -0.0433, -0.0489,\n",
            "         -0.0491, -0.0485, -0.0470, -0.0448, -0.0485, -0.0493, -0.0491, -0.0480,\n",
            "         -0.0462, -0.0480, -0.0492, -0.0494, -0.0488, -0.0474, -0.0472, -0.0488,\n",
            "         -0.0496, -0.0494, -0.0484]], grad_fn=<PermuteBackward>)\n"
          ]
        }
      ]
    }
  ]
}